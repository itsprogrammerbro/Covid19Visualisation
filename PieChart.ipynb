{
  "nbformat": 4,
  "nbformat_minor": 0,
  "metadata": {
    "colab": {
      "name": "PieChart",
      "provenance": [],
      "authorship_tag": "ABX9TyPqHgI7T2aDYAfnVITud3DK",
      "include_colab_link": true
    },
    "kernelspec": {
      "name": "python3",
      "display_name": "Python 3"
    },
    "language_info": {
      "name": "python"
    }
  },
  "cells": [
    {
      "cell_type": "markdown",
      "metadata": {
        "id": "view-in-github",
        "colab_type": "text"
      },
      "source": [
        "<a href=\"https://colab.research.google.com/github/itsprogrammerbro/Covid19Visualisation-Updates-Daily-Country-wise/blob/main/PieChart.ipynb\" target=\"_parent\"><img src=\"https://colab.research.google.com/assets/colab-badge.svg\" alt=\"Open In Colab\"/></a>"
      ]
    },
    {
      "cell_type": "code",
      "metadata": {
        "colab": {
          "base_uri": "https://localhost:8080/",
          "height": 248
        },
        "id": "dZ7oofAyDCGR",
        "outputId": "e310fb6c-20ef-41a0-e7cb-07e86b9cce20"
      },
      "source": [
        "import matplotlib.pyplot as plt\n",
        "x=[30,30,20,20]\n",
        "la=[\"Python\",\"C++\",\"Java\",\"C#\"]\n",
        "plt.pie(x,labels=la)\n",
        "plt.show()"
      ],
      "execution_count": 1,
      "outputs": [
        {
          "output_type": "display_data",
          "data": {
            "image/png": "[encoded data removed]",
            "text/plain": [
              "<Figure size 432x288 with 1 Axes>"
            ]
          },
          "metadata": {
            "tags": []
          }
        }
      ]
    }
  ]
}